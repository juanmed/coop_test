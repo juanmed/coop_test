{
  "nbformat": 4,
  "nbformat_minor": 0,
  "metadata": {
    "colab": {
      "name": "Test_COOP.ipynb",
      "provenance": [],
      "authorship_tag": "ABX9TyMIKgANfN4rTi5DCfD8/HjD",
      "include_colab_link": true
    },
    "kernelspec": {
      "name": "python3",
      "display_name": "Python 3"
    },
    "language_info": {
      "name": "python"
    }
  },
  "cells": [
    {
      "cell_type": "markdown",
      "metadata": {
        "id": "view-in-github",
        "colab_type": "text"
      },
      "source": [
        "<a href=\"https://colab.research.google.com/github/juanmed/coop_test/blob/main/Test_COOP.ipynb\" target=\"_parent\"><img src=\"https://colab.research.google.com/assets/colab-badge.svg\" alt=\"Open In Colab\"/></a>"
      ]
    },
    {
      "cell_type": "code",
      "metadata": {
        "id": "4cBFpFy9xrUV"
      },
      "source": [
        ""
      ],
      "execution_count": null,
      "outputs": []
    },
    {
      "cell_type": "markdown",
      "metadata": {
        "id": "HdjLeacZxr6z"
      },
      "source": [
        "#Test 1\n",
        "A palindrome is a word that reads the same forwards and backwards. Some examples are \"racecar\", \"civic\" and \"rotor\".\n",
        "\n",
        "For this problem, we will be looking at palindromic numbers, which read the same forwards and backwards: 1441, 22, 15900951, 7.\n",
        "\n",
        "Given a certain number \"n\", write a function that computes the smallest non-negative number m such that (m+n) is a palindromic number.\n",
        "\n",
        "Constraint    0 <= n <= 1000\n",
        "\n"
      ]
    },
    {
      "cell_type": "code",
      "metadata": {
        "id": "G50HBh-ky80e"
      },
      "source": [
        ""
      ],
      "execution_count": null,
      "outputs": []
    },
    {
      "cell_type": "code",
      "metadata": {
        "id": "S9c5eyWLy-Eu"
      },
      "source": [
        ""
      ],
      "execution_count": null,
      "outputs": []
    },
    {
      "cell_type": "markdown",
      "metadata": {
        "id": "wAobVM_ly-QN"
      },
      "source": [
        "# Test 2\n",
        "\n",
        "Read the data from the following link and make some beautiful graphs of at leaste 3 columns you want \n",
        "\n",
        "https://github.com/ThisIsIsaac/Data-Science-for-COVID-19/blob/master/Covid19_Dataset/patients.csv\n"
      ]
    },
    {
      "cell_type": "markdown",
      "metadata": {
        "id": "UY2pJZiezeLn"
      },
      "source": [
        ""
      ]
    },
    {
      "cell_type": "code",
      "metadata": {
        "id": "4MnacuAAy_Ze"
      },
      "source": [
        ""
      ],
      "execution_count": null,
      "outputs": []
    }
  ]
}